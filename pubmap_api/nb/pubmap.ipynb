{
 "cells": [
  {
   "cell_type": "code",
   "execution_count": null,
   "id": "b016c44f",
   "metadata": {},
   "outputs": [],
   "source": [
    "import sys\n",
    "sys.path.append('../code')\n",
    "import os\n",
    "from pubmap import retrieve_pubmed, analyse_pubmed"
   ]
  },
  {
   "cell_type": "markdown",
   "id": "a44d93ae",
   "metadata": {},
   "source": [
    "# Run the Analysis"
   ]
  },
  {
   "cell_type": "code",
   "execution_count": null,
   "id": "707f6962",
   "metadata": {},
   "outputs": [],
   "source": [
    "data_path = \"/Users/martinszyska/Sites/node/pubmap/public/data\"\n",
    "result_df = pd.read_csv(os.path.join(data_path, 'rv_pubs_filtered.csv'), sep=\"\\t\")\n",
    "analyse_pubmed(result_df, outfolder=data_path, max_nodes=250, min_power=1, min_weight=1, past_years=100)"
   ]
  },
  {
   "cell_type": "markdown",
   "id": "e4cab0a6",
   "metadata": {},
   "source": [
    "# Step by step\n",
    "### do the pubmed query and clean"
   ]
  },
  {
   "cell_type": "code",
   "execution_count": null,
   "id": "741a77a7",
   "metadata": {},
   "outputs": [],
   "source": [
    "from pubmap import retrieve_pubmed, get_author_pos\n",
    "data_path = \"/Users/martinszyska/Sites/node/pubmap/public/data\""
   ]
  },
  {
   "cell_type": "code",
   "execution_count": null,
   "id": "5a178558",
   "metadata": {},
   "outputs": [],
   "source": [
    "pubmed_query=\"Reinke P[au] OR Volk HD[au]\"\n",
    "pubmed_df = retrieve_pubmed(pubmed_query)\n",
    "pubmed_df[:2]"
   ]
  },
  {
   "cell_type": "markdown",
   "id": "29c994ac",
   "metadata": {},
   "source": [
    "### clear mistakes"
   ]
  },
  {
   "cell_type": "code",
   "execution_count": null,
   "id": "5fee18e8",
   "metadata": {},
   "outputs": [],
   "source": [
    "# get rid of last tow entries and other\n",
    "pubmed_clean_df = pubmed_df.iloc[:-2,:].query('title != \"The role of arousal in memory for conversation.\"')"
   ]
  },
  {
   "cell_type": "code",
   "execution_count": null,
   "id": "0621d8e4",
   "metadata": {},
   "outputs": [],
   "source": [
    "def check_names(pub):\n",
    "    if len([a for a in pub['authors'] if a == \"Reinke,P\" or a.startswith(\"Volk,\")]):\n",
    "        return pub"
   ]
  },
  {
   "cell_type": "code",
   "execution_count": null,
   "id": "0acd7748",
   "metadata": {},
   "outputs": [],
   "source": [
    "pubmed_clean2_df = pubmed_clean_df.apply(check_names, axis=1).query(\"title == title\").reset_index(drop=True)\n",
    "# change that one \"volk,HD\" to \"Volk,HD\"\n",
    "pubmed_clean2_df.iloc[752,5] = ['Ode-Hakim,S', 'Döcke,WD', 'Mutze,S', 'Volk,HD', 'Reinke,P']\n",
    "pubmed_clean2_df[:3]"
   ]
  },
  {
   "cell_type": "code",
   "execution_count": null,
   "id": "ec651a11",
   "metadata": {},
   "outputs": [],
   "source": [
    "result_df = pubmed_clean2_df.apply(get_author_pos, axis=1).drop(columns=\"affiliations\")\n",
    "result_df.to_csv(os.path.join(data_path, 'rv_pubs.csv'), sep=\"\\t\", index=False)\n",
    "result_df[:3]"
   ]
  },
  {
   "cell_type": "markdown",
   "id": "707ae0c3",
   "metadata": {},
   "source": [
    "### remove the huge publications!!\n",
    "+ these would inflate nodes immensely (20K!)"
   ]
  },
  {
   "cell_type": "code",
   "execution_count": null,
   "id": "bcdb40e7",
   "metadata": {},
   "outputs": [],
   "source": [
    "result_df.query(\"n_authors > 50\")"
   ]
  },
  {
   "cell_type": "code",
   "execution_count": null,
   "id": "fb98f6e6",
   "metadata": {},
   "outputs": [],
   "source": [
    "result_df = result_df.query(\"n_authors < 50\")\n",
    "result_df.query(\"n_authors > 30\")"
   ]
  },
  {
   "cell_type": "markdown",
   "id": "7fd696e5",
   "metadata": {},
   "source": [
    "### save/load results"
   ]
  },
  {
   "cell_type": "code",
   "execution_count": null,
   "id": "09f06eb6",
   "metadata": {},
   "outputs": [],
   "source": [
    "# result_df.to_csv(os.path.join(data_path, 'rv_pubs_filtered.csv'), sep=\"\\t\", index=False)\n",
    "result_df = pd.read_csv(os.path.join(data_path, 'rv_pubs_filtered.csv'), sep=\"\\t\")\n",
    "result_df[:3]"
   ]
  },
  {
   "cell_type": "markdown",
   "id": "1bfedcc8",
   "metadata": {},
   "source": [
    "## get the coauthor linkage"
   ]
  },
  {
   "cell_type": "code",
   "execution_count": null,
   "id": "254ab0ea",
   "metadata": {},
   "outputs": [],
   "source": [
    "from pubmap import get_coauthors\n",
    "coauthors = get_coauthors(result_df)\n",
    "coauthors"
   ]
  },
  {
   "cell_type": "markdown",
   "id": "dfd4b3ad",
   "metadata": {},
   "source": [
    "### change von Baer"
   ]
  },
  {
   "cell_type": "code",
   "execution_count": null,
   "id": "8ae3d19b",
   "metadata": {},
   "outputs": [],
   "source": [
    "coauthors.loc[coauthors['A'].str.contains(\"Baehr\"), :]"
   ]
  },
  {
   "cell_type": "code",
   "execution_count": null,
   "id": "5458b97b",
   "metadata": {},
   "outputs": [],
   "source": [
    "coauthors.loc[coauthors['A'].str.contains(\"Baehr\"), \"A\"] = \"von Baehr,R\"\n",
    "coauthors.loc[coauthors['A'].str.contains(\"Baehr\"), :]"
   ]
  },
  {
   "cell_type": "markdown",
   "id": "badd5581",
   "metadata": {},
   "source": [
    "### save/load"
   ]
  },
  {
   "cell_type": "code",
   "execution_count": null,
   "id": "10efa1d9",
   "metadata": {},
   "outputs": [],
   "source": [
    "from pubmap import get_nodes, get_edges, get_info, retrieve_data, to_json_dict\n",
    "data_path = \"/Users/martinszyska/Sites/node/pubmap/public/data\"\n",
    "# coauthors.to_csv(os.path.join(data_path, 'coauthors.csv'), sep=\"\\t\", index=False)\n",
    "coauthors = pd.read_csv(os.path.join(data_path, 'coauthors.csv'), sep=\"\\t\")"
   ]
  },
  {
   "cell_type": "markdown",
   "id": "e413c23b",
   "metadata": {},
   "source": [
    "### get the nodes from the unique names in A and B"
   ]
  },
  {
   "cell_type": "code",
   "execution_count": null,
   "id": "ea03100c",
   "metadata": {},
   "outputs": [],
   "source": [
    "nodes = get_nodes(coauthors)\n",
    "nodes"
   ]
  },
  {
   "cell_type": "markdown",
   "id": "fe481301",
   "metadata": {},
   "source": [
    "### store the ids of the global nodes list for unique ids"
   ]
  },
  {
   "cell_type": "code",
   "execution_count": null,
   "id": "6b87fb6a",
   "metadata": {},
   "outputs": [],
   "source": [
    "nodes = nodes.reset_index().rename({'index': 'id'}, axis=1).loc[:, [\"id\", \"name\", \"power\", \"last\", \"group\"]]\n",
    "node_ids = nodes.loc[:,['id', 'name']]\n",
    "nodes"
   ]
  },
  {
   "cell_type": "markdown",
   "id": "c09163de",
   "metadata": {},
   "source": [
    "### get the global edges with unique ids"
   ]
  },
  {
   "cell_type": "code",
   "execution_count": null,
   "id": "5bec2867",
   "metadata": {},
   "outputs": [],
   "source": [
    "nodes, edges = get_edges(coauthors, nodes)\n",
    "edges"
   ]
  },
  {
   "cell_type": "markdown",
   "id": "a4cbbd96",
   "metadata": {},
   "source": [
    "### get the edge_ids for unique link ids"
   ]
  },
  {
   "cell_type": "code",
   "execution_count": null,
   "id": "8b3c0958",
   "metadata": {},
   "outputs": [],
   "source": [
    "edges = edges.reset_index().rename({\"index\":\"id\"}, axis=1).loc[:, ['id', 'source', 'target', 'weight']]\n",
    "edge_ids = edges.drop(columns=\"weight\")\n",
    "edge_ids"
   ]
  },
  {
   "cell_type": "markdown",
   "id": "2ddf2757",
   "metadata": {},
   "source": [
    "### test one year"
   ]
  },
  {
   "cell_type": "code",
   "execution_count": null,
   "id": "c6d7aff0",
   "metadata": {},
   "outputs": [],
   "source": [
    "year=2021\n",
    "past_years = 50\n",
    "\n",
    "json_folder = os.path.join(data_path, \"pubmap\")\n",
    "max_nodes=250\n",
    "min_power=0\n",
    "max_edges=0\n",
    "min_weight=1\n",
    "remove_stumps=True\n",
    "\n",
    "# loop through years\n",
    "print(year)\n",
    "ca_df = coauthors.query('@past_years <= date <= @year')\n",
    "nodes, edges, info = retrieve_data(ca_df, node_ids, edge_ids,\n",
    "max_nodes=max_nodes, \n",
    "min_power=min_power, \n",
    "min_weight=min_weight,\n",
    "remove_stumps=remove_stumps)\n",
    "nodes"
   ]
  },
  {
   "cell_type": "code",
   "execution_count": null,
   "id": "59f02ec3",
   "metadata": {},
   "outputs": [],
   "source": [
    "import json\n",
    "# save to datapath\n",
    "json_file = os.path.join(json_folder, f\"pubmap{year}.json\")\n",
    "with open(json_file, \"w\") as file:\n",
    "    json.dump(to_json_dict(nodes, edges, info), file)"
   ]
  },
  {
   "cell_type": "markdown",
   "id": "cf77a0a6",
   "metadata": {},
   "source": [
    "## save isolated data frame"
   ]
  },
  {
   "cell_type": "code",
   "execution_count": null,
   "id": "831be2cc",
   "metadata": {},
   "outputs": [],
   "source": [
    "def isolate_VH(nodes, edges, info):\n",
    "    return nodes.query('name in [\"Volk,HD\", \"Reinke,P\"]'), edges.query('id == 0'), info\n",
    "\n",
    "inodes, iedges, info = isolate_VH(nodes, edges, info)\n",
    "\n",
    "\n",
    "for year in range(2022,2050):\n",
    "    json_file = os.path.join(json_folder, f\"pubmap{year}.json\")\n",
    "    with open(json_file, \"w\") as file:\n",
    "        json.dump(to_json_dict(inodes, iedges, info), file)"
   ]
  },
  {
   "cell_type": "code",
   "execution_count": null,
   "id": "c933f843",
   "metadata": {},
   "outputs": [],
   "source": [
    "edges"
   ]
  },
  {
   "cell_type": "code",
   "execution_count": null,
   "id": "e6f76e00",
   "metadata": {},
   "outputs": [],
   "source": [
    "nodes.query('name in [\"Volk,HD\", \"Reinke,P\"]')\n",
    "edges.query('id == 0')"
   ]
  },
  {
   "cell_type": "code",
   "execution_count": null,
   "id": "82143b0e",
   "metadata": {},
   "outputs": [],
   "source": []
  },
  {
   "cell_type": "code",
   "execution_count": null,
   "id": "427ed970",
   "metadata": {},
   "outputs": [],
   "source": []
  }
 ],
 "metadata": {
  "kernelspec": {
   "display_name": "Python 3 (ipykernel)",
   "language": "python",
   "name": "python3"
  },
  "language_info": {
   "codemirror_mode": {
    "name": "ipython",
    "version": 3
   },
   "file_extension": ".py",
   "mimetype": "text/x-python",
   "name": "python",
   "nbconvert_exporter": "python",
   "pygments_lexer": "ipython3",
   "version": "3.9.7"
  }
 },
 "nbformat": 4,
 "nbformat_minor": 5
}
