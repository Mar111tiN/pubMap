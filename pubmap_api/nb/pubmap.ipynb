{
 "cells": [
  {
   "cell_type": "code",
   "execution_count": null,
   "id": "9bb84d18",
   "metadata": {},
   "outputs": [],
   "source": [
    "import sys\n",
    "sys.path.append('../code')\n",
    "import os\n",
    "from pubmap import retrieve_pubmed, analyse_pubmed"
   ]
  },
  {
   "cell_type": "code",
   "execution_count": null,
   "id": "707f6962",
   "metadata": {},
   "outputs": [],
   "source": [
    "data_path = \"/Users/martinszyska/Sites/node/pubmap/public/data\""
   ]
  },
  {
   "cell_type": "markdown",
   "id": "6820344a",
   "metadata": {},
   "source": [
    "## do the pubmed query and clean"
   ]
  },
  {
   "cell_type": "code",
   "execution_count": null,
   "id": "5a178558",
   "metadata": {},
   "outputs": [],
   "source": [
    "pubmed_query=\"Reinke P[au] OR Volk HD[au]\"\n",
    "pubmed_df = retrieve_pubmed(pubmed_query)\n",
    "pubmed_df[:2]"
   ]
  },
  {
   "cell_type": "markdown",
   "id": "29c994ac",
   "metadata": {},
   "source": [
    "### clear mistakes"
   ]
  },
  {
   "cell_type": "code",
   "execution_count": null,
   "id": "5fee18e8",
   "metadata": {},
   "outputs": [],
   "source": [
    "# get rid of last tow entries and other\n",
    "pubmed_clean_df = pubmed_df.iloc[:-2,:].query('title != \"The role of arousal in memory for conversation.\"')"
   ]
  },
  {
   "cell_type": "code",
   "execution_count": null,
   "id": "0621d8e4",
   "metadata": {},
   "outputs": [],
   "source": [
    "def check_names(pub):\n",
    "    if len([a for a in pub['authors'] if a == \"Reinke,P\" or a.startswith(\"Volk,\")]):\n",
    "        return pub"
   ]
  },
  {
   "cell_type": "code",
   "execution_count": null,
   "id": "0acd7748",
   "metadata": {},
   "outputs": [],
   "source": [
    "pubmed_clean2_df = pubmed_clean_df.apply(check_names, axis=1).query(\"title == title\").reset_index(drop=True)\n",
    "# change that one \"volk,HD\" to \"Volk,HD\"\n",
    "pubmed_clean2_df.iloc[752,5] = ['Ode-Hakim,S', 'Döcke,WD', 'Mutze,S', 'Volk,HD', 'Reinke,P']\n",
    "pubmed_clean2_df[:3]"
   ]
  },
  {
   "cell_type": "code",
   "execution_count": null,
   "id": "ec651a11",
   "metadata": {},
   "outputs": [],
   "source": [
    "result_df = pubmed_clean2_df.apply(get_author_pos, axis=1).drop(columns=\"affiliations\")\n",
    "result_df[:3]"
   ]
  },
  {
   "cell_type": "markdown",
   "id": "707ae0c3",
   "metadata": {},
   "source": [
    "### remove the huge publications!!\n",
    "+ these would inflate nodes immensely (20K!)"
   ]
  },
  {
   "cell_type": "code",
   "execution_count": null,
   "id": "bcdb40e7",
   "metadata": {},
   "outputs": [],
   "source": [
    "result_df.query(\"n_authors > 200\")"
   ]
  },
  {
   "cell_type": "code",
   "execution_count": null,
   "id": "fb98f6e6",
   "metadata": {},
   "outputs": [],
   "source": [
    "result_df = result_df.query(\"n_authors < 200\")"
   ]
  },
  {
   "cell_type": "markdown",
   "id": "7fd696e5",
   "metadata": {},
   "source": [
    "### save/load results"
   ]
  },
  {
   "cell_type": "code",
   "execution_count": null,
   "id": "09f06eb6",
   "metadata": {},
   "outputs": [],
   "source": [
    "# result_df.to_csv(os.path.join(data_path, 'rv_pubs.csv'), sep=\"\\t\", index=False)\n",
    "result_df = pd.read_csv(os.path.join(data_path, 'rv_pubs.csv'), sep=\"\\t\")\n",
    "result_df[:3]"
   ]
  },
  {
   "cell_type": "markdown",
   "id": "172b7ff5",
   "metadata": {},
   "source": [
    "## RUN the analysis"
   ]
  },
  {
   "cell_type": "code",
   "execution_count": null,
   "id": "c267fc53",
   "metadata": {},
   "outputs": [],
   "source": [
    "analyse_pubmed(result_df, outfolder=data_path, max_nodes=250, min_power=1, min_weight=1)"
   ]
  },
  {
   "cell_type": "markdown",
   "id": "33f5b602",
   "metadata": {},
   "source": [
    "## STEP BY STEP"
   ]
  },
  {
   "cell_type": "markdown",
   "id": "1bfedcc8",
   "metadata": {},
   "source": [
    "### get the coauthor linkage"
   ]
  },
  {
   "cell_type": "code",
   "execution_count": null,
   "id": "254ab0ea",
   "metadata": {},
   "outputs": [],
   "source": [
    "coauthors = get_coauthors(result_df)\n",
    "coauthors"
   ]
  },
  {
   "cell_type": "markdown",
   "id": "dfd4b3ad",
   "metadata": {},
   "source": [
    "### change von Baer"
   ]
  },
  {
   "cell_type": "code",
   "execution_count": null,
   "id": "8ae3d19b",
   "metadata": {},
   "outputs": [],
   "source": [
    "coauthors.loc[coauthors['A'].str.contains(\"Baehr\"), :]"
   ]
  },
  {
   "cell_type": "code",
   "execution_count": null,
   "id": "5458b97b",
   "metadata": {},
   "outputs": [],
   "source": [
    "coauthors.loc[coauthors['A'].str.contains(\"Baehr\"), \"A\"] = \"von Baehr,R\"\n",
    "coauthors.loc[coauthors['A'].str.contains(\"Baehr\"), :]"
   ]
  },
  {
   "cell_type": "code",
   "execution_count": null,
   "id": "10efa1d9",
   "metadata": {},
   "outputs": [],
   "source": [
    "# coauthors.to_csv(os.path.join(data_path, 'coauthors.csv'), sep=\"\\t\", index=False)\n",
    "coauthors = pd.read_csv(os.path.join(data_path, 'coauthors.csv'), sep=\"\\t\")"
   ]
  },
  {
   "cell_type": "markdown",
   "id": "e413c23b",
   "metadata": {},
   "source": [
    "### get the nodes from the unique names in A and B"
   ]
  },
  {
   "cell_type": "code",
   "execution_count": null,
   "id": "ea03100c",
   "metadata": {},
   "outputs": [],
   "source": [
    "from pubmap import get_coauthors, get_nodes, get_data, save_by_year, get_info\n",
    "nodes = get_nodes(coauthors)\n",
    "nodes"
   ]
  },
  {
   "cell_type": "markdown",
   "id": "fe481301",
   "metadata": {},
   "source": [
    "### store the ids of the global nodes list for unique ids"
   ]
  },
  {
   "cell_type": "code",
   "execution_count": null,
   "id": "6b87fb6a",
   "metadata": {},
   "outputs": [],
   "source": [
    "node_ids = nodes.reset_index().rename({'index': 'id'}, axis=1).loc[:,['id', 'name']]\n",
    "node_ids"
   ]
  },
  {
   "cell_type": "code",
   "execution_count": null,
   "id": "5bec2867",
   "metadata": {},
   "outputs": [],
   "source": [
    "_, _, edges = get_data(coauthors, node_ids)\n",
    "edges"
   ]
  },
  {
   "cell_type": "markdown",
   "id": "37480212",
   "metadata": {},
   "source": [
    "### get the edges for the linkage\n",
    "+ here the nodes will be reduced according to year of occurrence"
   ]
  },
  {
   "cell_type": "code",
   "execution_count": null,
   "id": "f3cc66ea",
   "metadata": {},
   "outputs": [],
   "source": [
    "_, nodes, edges = get_data(coauthors, node_ids, min_weight=1, after=1980, year=2010, max_nodes=250)\n",
    "nodes"
   ]
  },
  {
   "cell_type": "code",
   "execution_count": null,
   "id": "d578f4e8",
   "metadata": {},
   "outputs": [],
   "source": [
    "nodes.to_csv(os.path.join(data_path, \"pubmap_nodes.csv\"), sep=\"\\t\", index=False)\n",
    "edges.to_csv(os.path.join(data_path, \"pubmap_edges.csv\"), sep=\"\\t\", index=False)"
   ]
  },
  {
   "cell_type": "code",
   "execution_count": null,
   "id": "a0f255d6",
   "metadata": {},
   "outputs": [],
   "source": [
    "json_folder = os.path.join(data_path, \"pubmap\")\n",
    "for year in coauthors['date'].sort_values().unique():\n",
    "    print(year)\n",
    "    _,_ = save_by_year(coauthors, node_ids, year=year, past_years=25, save_folder=json_folder,\n",
    "    max_nodes=250, min_power=2, min_weight=1)"
   ]
  },
  {
   "cell_type": "code",
   "execution_count": null,
   "id": "210c6e3a",
   "metadata": {},
   "outputs": [],
   "source": []
  }
 ],
 "metadata": {
  "kernelspec": {
   "display_name": "Python 3 (ipykernel)",
   "language": "python",
   "name": "python3"
  },
  "language_info": {
   "codemirror_mode": {
    "name": "ipython",
    "version": 3
   },
   "file_extension": ".py",
   "mimetype": "text/x-python",
   "name": "python",
   "nbconvert_exporter": "python",
   "pygments_lexer": "ipython3",
   "version": "3.9.7"
  }
 },
 "nbformat": 4,
 "nbformat_minor": 5
}
